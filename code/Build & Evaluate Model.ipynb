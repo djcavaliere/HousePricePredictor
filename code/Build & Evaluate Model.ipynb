{
 "cells": [
  {
   "cell_type": "markdown",
   "id": "e124e0bb-b55a-4517-a7d1-aafc3c3d4960",
   "metadata": {},
   "source": [
    "### Overview\n",
    "1) First I will create some baseline predictions using the null mean where we make and evaluate predictions based on the mean of the target variable. We can then use these metrics to evaluate how much better or worse our model performs. \n",
    "\n",
    "2) Secondly I will create a basic model where I simply run some of the original features through a linear regression model and evaluate the performance. I will use the features that I think are best suited to predict Sale Price based on domain knowledge of housing prices and the correlation/linear relationships I saw between features and target in my EDA notebook.\n",
    "\n",
    "3) Lastly I will irerate on the basic model creating my own features, dummifying categorical features, standardizing the features and running the data throuh ridge, lasso, and linear regression to identify the most optimal model. \n"
   ]
  },
  {
   "cell_type": "code",
   "execution_count": 1,
   "id": "726d4fcf-62e4-40e3-a12a-32f3edd6ba38",
   "metadata": {},
   "outputs": [],
   "source": [
    "import pandas as pd\n",
    "import numpy as np\n",
    "import matplotlib.pyplot as plt\n",
    "from sklearn.model_selection import cross_val_score, train_test_split, GridSearchCV\n",
    "from sklearn.linear_model import LinearRegression, Ridge, Lasso, LassoCV\n",
    "from sklearn.preprocessing import StandardScaler, PolynomialFeatures\n",
    "from sklearn.pipeline import Pipeline\n",
    "from sklearn import metrics\n",
    "\n",
    "import warnings\n",
    "warnings.filterwarnings(\"ignore\")"
   ]
  },
  {
   "cell_type": "code",
   "execution_count": 2,
   "id": "c5eec593-bc60-450c-9e9d-47fee07e63f0",
   "metadata": {},
   "outputs": [],
   "source": [
    "%store -r traindf\n",
    "%store -r testdf"
   ]
  },
  {
   "cell_type": "code",
   "execution_count": 3,
   "id": "b0a6f92b-e037-4aeb-b1e2-2eff87f9c752",
   "metadata": {},
   "outputs": [
    {
     "data": {
      "text/plain": [
       "(1883, 225)"
      ]
     },
     "execution_count": 3,
     "metadata": {},
     "output_type": "execute_result"
    }
   ],
   "source": [
    "traindf.shape"
   ]
  },
  {
   "cell_type": "code",
   "execution_count": 4,
   "id": "bc059760-24fd-4d88-a1d1-879eb9e3391a",
   "metadata": {},
   "outputs": [
    {
     "data": {
      "text/plain": [
       "(878, 221)"
      ]
     },
     "execution_count": 4,
     "metadata": {},
     "output_type": "execute_result"
    }
   ],
   "source": [
    "testdf.shape"
   ]
  },
  {
   "cell_type": "markdown",
   "id": "d7e85bfb-52d9-4e1c-ba56-126a432dd455",
   "metadata": {},
   "source": [
    "### Baseline Metrics\n",
    "In order to calculate the baseline metrics I will split the train data into train and validation sets then use the mean of the train target to predict the validation target and evaluate the results. "
   ]
  },
  {
   "cell_type": "code",
   "execution_count": 5,
   "id": "269a3385-d6eb-4b27-9a5e-2ba0acacf7e8",
   "metadata": {},
   "outputs": [
    {
     "name": "stdout",
     "output_type": "stream",
     "text": [
      "RMSE: 79012.56150617845, MAE: 58054.939752471, R2: 0.0\n"
     ]
    }
   ],
   "source": [
    "# baseline metrics\n",
    "\n",
    "mean_price= traindf['SalePrice'].mean()\n",
    "residuals= traindf['SalePrice'] - mean_price\n",
    "\n",
    "sse= (residuals**2).sum()\n",
    "mse= (residuals**2).sum() / (len(residuals))\n",
    "rmse= mse**0.5\n",
    "mae= np.abs(residuals).mean()\n",
    "r2= 1 - (sse/sse) \n",
    "print(f'RMSE: {rmse}, MAE: {mae}, R2: {r2}')"
   ]
  },
  {
   "cell_type": "markdown",
   "id": "4822dcde-0881-42ed-83fa-fa60fd098798",
   "metadata": {},
   "source": [
    "### Basic Linear Regression Model\n",
    "Here I will make predictions using a very simple multi linear regression model utilizing only a handful of features that show the strongest correlation with Sale Price.  "
   ]
  },
  {
   "cell_type": "code",
   "execution_count": 6,
   "id": "692e3740-edaf-44cb-a922-f6ace345fa9d",
   "metadata": {},
   "outputs": [],
   "source": [
    "#Model 1- Basic Model - Simple Multi Linear Regression using highly correlated features\n",
    "X= traindf[[ 'Overall Qual',\n",
    "            'Gr Liv Area', \n",
    "            'Garage Area', \n",
    "            'Lot Area',  \n",
    "            'TotRms AbvGrd', \n",
    "            'Bedroom AbvGr'\n",
    "           ]]\n",
    "y= traindf['SalePrice']\n",
    "basic_model= LinearRegression()"
   ]
  },
  {
   "cell_type": "code",
   "execution_count": 7,
   "id": "922149ba-f469-4dc0-9351-53d6e5b714a4",
   "metadata": {},
   "outputs": [],
   "source": [
    "X_train, X_val, y_train, y_val= train_test_split(X, y, random_state = 42, test_size= 0.3)"
   ]
  },
  {
   "cell_type": "code",
   "execution_count": 8,
   "id": "27285879-e8fb-421e-b2c0-758a58397de5",
   "metadata": {},
   "outputs": [
    {
     "data": {
      "text/plain": [
       "(0.8023510634702022, 0.8145583966046375)"
      ]
     },
     "execution_count": 8,
     "metadata": {},
     "output_type": "execute_result"
    }
   ],
   "source": [
    "basic_model.fit(X_train, y_train)\n",
    "basic_model.score(X_train, y_train), basic_model.score(X_val, y_val)"
   ]
  },
  {
   "cell_type": "code",
   "execution_count": 9,
   "id": "20f7927f-2dd9-4e97-8750-2dd6b294baf0",
   "metadata": {},
   "outputs": [
    {
     "data": {
      "text/plain": [
       "(35243.641266755796, 33741.140208725934)"
      ]
     },
     "execution_count": 9,
     "metadata": {},
     "output_type": "execute_result"
    }
   ],
   "source": [
    "#predictions on train and validation datasets\n",
    "basic_pred_train= basic_model.predict(X_train)\n",
    "basic_pred_val= basic_model.predict(X_val)\n",
    "\n",
    "#residuals on train and validation\n",
    "basic_resid_train= y_train - basic_pred_train\n",
    "basic_resid_val= y_val - basic_pred_val\n",
    "\n",
    "#train and validation scores\n",
    "basic_mse_train= metrics.mean_squared_error(y_train, basic_pred_train)\n",
    "basic_rmse_train= basic_mse_train**0.5\n",
    "\n",
    "basic_mse_val= metrics.mean_squared_error(y_val, basic_pred_val)\n",
    "basic_rmse_val= basic_mse_val**0.5\n",
    "\n",
    "basic_rmse_train, basic_rmse_val"
   ]
  },
  {
   "cell_type": "code",
   "execution_count": 10,
   "id": "3221ac4b-7773-4450-813d-12f13d0ca75e",
   "metadata": {},
   "outputs": [
    {
     "data": {
      "text/plain": [
       "(878, 2)"
      ]
     },
     "execution_count": 10,
     "metadata": {},
     "output_type": "execute_result"
    }
   ],
   "source": [
    "#make predictions on the test data\n",
    "\n",
    "X_test= testdf[[ 'Overall Qual',\n",
    "            'Gr Liv Area', \n",
    "            'Garage Area', \n",
    "            'Lot Area',  \n",
    "            'TotRms AbvGrd', \n",
    "            'Bedroom AbvGr'\n",
    "           ]]\n",
    "\n",
    "basic_model_preds= basic_model.predict(X_test)\n",
    "basic_model_kaggle = pd.DataFrame(testdf['Id'])\n",
    "basic_model_kaggle.reset_index(drop=True, inplace=True)\n",
    "basic_model_kaggle['SalePrice'] = basic_model_preds\n",
    "basic_model_kaggle.shape"
   ]
  },
  {
   "cell_type": "code",
   "execution_count": 11,
   "id": "a0332db1-327a-4770-a5c2-a4bc645b4648",
   "metadata": {},
   "outputs": [],
   "source": [
    "basic_model_kaggle.to_csv('datasets/basic_model_kaggle.csv')"
   ]
  },
  {
   "cell_type": "markdown",
   "id": "70aa927c-ed13-45ce-8f6b-8ffbdf23a147",
   "metadata": {},
   "source": [
    "### Linear Regression with Engineered Features\n",
    "The basic model showed great improvement over the baseline metrics however the R2 score suggests there is room to increase the complexity of the model to drive more accurate predictions. Here I will add some complexity to the model by increasing the feature set and introduce some engineered features."
   ]
  },
  {
   "cell_type": "code",
   "execution_count": 12,
   "id": "a6555b4f-d5ac-45cb-8532-beff384f8eba",
   "metadata": {},
   "outputs": [
    {
     "data": {
      "text/plain": [
       "((878, 204), (1883, 205))"
      ]
     },
     "execution_count": 12,
     "metadata": {},
     "output_type": "execute_result"
    }
   ],
   "source": [
    "#Before I can fit the model I need to ensure that the train and test data have the same columns\n",
    "#Here I am simply dropping categorical dummy columns that aren't present in both datasets\n",
    "train_temp= traindf.drop(columns= [('Utilities', 'NoSeWa'),('Neighborhood', 'GrnHill'),('Neighborhood', 'Landmrk'),('Condition 2', 'Feedr'),('Condition 2', 'PosN'),('Condition 2', 'RRAe'),('Condition 2', 'RRAn'),('Condition 2', 'RRNn'),('Roof Matl', 'Membran'),('Exterior 1st', 'CBlock'),('Exterior 1st', 'ImStucc'),('Exterior 1st', 'Stone'),('Exterior 2nd', 'Stone'),('Bsmt Cond', 'Fa'),('Bsmt Cond', 'Po'),('Heating', 'OthW'),('Heating QC', 'Po'),('Electrical', 'Mix'),('Functional', 'Sal'),('Functional', 'Sev')])\n",
    "\n",
    "test_temp= testdf.drop(columns= [('MS Zoning', 'I (all)'),('Utilities', 'NoSewr'),('Roof Matl', 'Metal'),('Roof Matl', 'Roll'),('Exterior 1st', 'PreCast'),('Exterior 2nd', 'Other'),('Exterior 2nd', 'PreCast'),('Mas Vnr Type', 'CBlock'),('Foundation', 'Slab'),('Bsmt Qual', 'NA'),('Bsmt Cond', 'NA'),('Bsmt Exposure', 'NA'),('BsmtFin Type 1', 'NA'),('BsmtFin Type 2', 'NA'),('Heating', 'GasA'),('Kitchen Qual', 'Po'),('Sale Type', 'VWD')])\n",
    "test_temp.shape, train_temp.shape"
   ]
  },
  {
   "cell_type": "code",
   "execution_count": 13,
   "id": "2a7c0b76-4884-4618-8733-2d56c829d105",
   "metadata": {},
   "outputs": [],
   "source": [
    "#model2 engineered features\n",
    "X2= train_temp.drop(columns=['SalePrice'])\n",
    "y2= traindf['SalePrice']\n",
    "model2= LinearRegression()"
   ]
  },
  {
   "cell_type": "code",
   "execution_count": 14,
   "id": "1cc93b33-8ba9-408e-8157-8ba124a24ee6",
   "metadata": {},
   "outputs": [],
   "source": [
    "X2_train, X2_val, y2_train, y2_val = train_test_split (X2, y2, random_state = 42, test_size = 0.3)"
   ]
  },
  {
   "cell_type": "code",
   "execution_count": 15,
   "id": "3d476a79-736f-4765-b96d-7b9c074049c9",
   "metadata": {},
   "outputs": [
    {
     "name": "stdout",
     "output_type": "stream",
     "text": [
      "Train Scores Model: 2 r2: 0.9419030556880365, RMSE: 19107.777540676234\n",
      "Validation Scores Model: 2 r2: 0.9159486061276553, RMSE: 22715.830932102275\n"
     ]
    }
   ],
   "source": [
    "##fit the model, predict y, and score the model\n",
    "model2.fit(X2_train, y2_train)\n",
    "model2_train_preds= model2.predict(X2_train)\n",
    "model2_val_preds= model2.predict(X2_val)\n",
    "r2_train= model2.score(X2_train, y2_train)\n",
    "r2_val= model2.score(X2_val, y2_val)\n",
    "\n",
    "model2_mse_train= metrics.mean_squared_error(y2_train, model2_train_preds)\n",
    "model2_rmse_train= model2_mse_train ** 0.5\n",
    "\n",
    "model2_mse_val= metrics.mean_squared_error(y2_val, model2_val_preds)\n",
    "model2_rmse_val= model2_mse_val ** 0.5\n",
    "\n",
    "print(f'Train Scores Model: 2 r2: {r2_train}, RMSE: {model2_rmse_train}')\n",
    "print(f'Validation Scores Model: 2 r2: {r2_val}, RMSE: {model2_rmse_val}')"
   ]
  },
  {
   "cell_type": "code",
   "execution_count": 16,
   "id": "36db78e9-6266-4910-86fe-d97b63152bf4",
   "metadata": {},
   "outputs": [
    {
     "data": {
      "text/plain": [
       "((878, 204), (1883, 205))"
      ]
     },
     "execution_count": 16,
     "metadata": {},
     "output_type": "execute_result"
    }
   ],
   "source": [
    "test_temp.shape, train_temp.shape"
   ]
  },
  {
   "cell_type": "code",
   "execution_count": 17,
   "id": "d8be5539-b62a-46bc-b869-9d5577ac926f",
   "metadata": {},
   "outputs": [
    {
     "data": {
      "text/plain": [
       "(878, 2)"
      ]
     },
     "execution_count": 17,
     "metadata": {},
     "output_type": "execute_result"
    }
   ],
   "source": [
    "#get predictions to submit to Kaggle\n",
    "# X2_val['Id']\n",
    "model2_preds= model2.predict(test_temp)\n",
    "kaggle_model2 = pd.DataFrame(test_temp['Id'])\n",
    "kaggle_model2.reset_index(drop=True, inplace=True)\n",
    "kaggle_model2['SalePrice'] = model2_preds\n",
    "kaggle_model2.shape"
   ]
  },
  {
   "cell_type": "code",
   "execution_count": 18,
   "id": "2e448e1d-b652-4bb3-82fe-e6fd7fe6715a",
   "metadata": {},
   "outputs": [],
   "source": [
    "kaggle_model2.to_csv('datasets/kaggle_model2.csv', index = False)"
   ]
  },
  {
   "cell_type": "markdown",
   "id": "b29f858a-e091-44d1-992c-61bd777f1770",
   "metadata": {},
   "source": [
    "### Model Complexity Continued\n",
    "Now that I have established a fairly accurate model I want to tweak this model adding complexity and applying some different estimators to see if I can drive any further improvement in the predictions. Here I will scale the features and run the same features from the previous model through Lasso and Ridge Regression."
   ]
  },
  {
   "cell_type": "code",
   "execution_count": 19,
   "id": "f2239ba9-35ee-40df-996e-fcbcf001810f",
   "metadata": {},
   "outputs": [],
   "source": [
    "#Standard Scaler\n",
    "sc = StandardScaler()\n",
    "\n",
    "#scale the x_train and x_validation datasets\n",
    "X_scaled= sc.fit_transform(X2_train)\n",
    "X_val_scaled= sc.transform(X2_val)\n",
    "X_test_scaled= sc.transform(test_temp)\n",
    "\n",
    "#fit a new model using the scaled data\n",
    "#model_scaled= LinearRegression()\n",
    "#model_scaled.fit(X_scaled, y2_train)"
   ]
  },
  {
   "cell_type": "code",
   "execution_count": 20,
   "id": "9fde0403-c713-4a1d-b903-34f7a739ee8c",
   "metadata": {},
   "outputs": [
    {
     "data": {
      "text/plain": [
       "(0.9418890872278884, 0.9162711103244894)"
      ]
     },
     "execution_count": 20,
     "metadata": {},
     "output_type": "execute_result"
    }
   ],
   "source": [
    "#Ridge Regression\n",
    "ridge = Ridge()\n",
    "ridge.fit(X_scaled, y2_train)\n",
    "ridge.score(X_scaled, y2_train), ridge.score(X_val_scaled, y2_val)"
   ]
  },
  {
   "cell_type": "code",
   "execution_count": 21,
   "id": "ab9309a9-c179-451c-9aca-204688d223f6",
   "metadata": {},
   "outputs": [
    {
     "data": {
      "text/plain": [
       "(0.9419019424391437, 0.9160748216552557)"
      ]
     },
     "execution_count": 21,
     "metadata": {},
     "output_type": "execute_result"
    }
   ],
   "source": [
    "#Lasso Regression\n",
    "lasso= Lasso()\n",
    "lasso.fit(X_scaled, y2_train)\n",
    "lasso.score(X_scaled, y2_train), lasso.score(X_val_scaled, y2_val)"
   ]
  },
  {
   "cell_type": "code",
   "execution_count": 22,
   "id": "76bf54b5-d869-4d94-bc03-a3099b0bb484",
   "metadata": {},
   "outputs": [
    {
     "data": {
      "text/plain": [
       "(0.9418179911925115, 0.9169685248963709)"
      ]
     },
     "execution_count": 22,
     "metadata": {},
     "output_type": "execute_result"
    }
   ],
   "source": [
    "# Set up a list of Lasso alphas to check.\n",
    "l_alphas = np.logspace(-4, 1, 100)\n",
    "# Cross-validate over our list of Lasso alphas.\n",
    "lasso_cv= LassoCV(alphas= l_alphas)\n",
    "# Fit model using best ridge alpha!\n",
    "lasso_cv.fit(X_scaled, y2_train)\n",
    "\n",
    "lasso_cv.score(X_scaled, y2_train), lasso_cv.score(X_val_scaled, y2_val)"
   ]
  },
  {
   "cell_type": "code",
   "execution_count": 23,
   "id": "6eb6530b-2799-4317-a663-f3f55e197f17",
   "metadata": {},
   "outputs": [
    {
     "name": "stdout",
     "output_type": "stream",
     "text": [
      " RMSE train 19121.761055158677, RMSE val 22577.588038814592\n"
     ]
    }
   ],
   "source": [
    "#RMSE scores for validation and train\n",
    "y_preds_train= lasso_cv.predict(X_scaled)\n",
    "y_preds_val= lasso_cv.predict(X_val_scaled)\n",
    "\n",
    "rmse_lassocv_train= (metrics.mean_squared_error(y2_train, y_preds_train))**0.5\n",
    "rmse_lassocv_val= (metrics.mean_squared_error(y2_val, y_preds_val))**0.5\n",
    "\n",
    "print(f' RMSE train {rmse_lassocv_train}, RMSE val {rmse_lassocv_val}')"
   ]
  },
  {
   "cell_type": "code",
   "execution_count": 24,
   "id": "55055fbd-c245-4dbc-89e7-ef4973218f72",
   "metadata": {},
   "outputs": [],
   "source": [
    "lassocv_preds= lasso_cv.predict(X_test_scaled)\n",
    "kaggle_lassocv = pd.DataFrame(test_temp['Id'])\n",
    "kaggle_lassocv.reset_index(drop=True, inplace=True)\n",
    "kaggle_lassocv['SalePrice'] = lassocv_preds\n",
    "kaggle_lassocv.to_csv('datasets/kaggle_lassocv.csv')"
   ]
  },
  {
   "cell_type": "code",
   "execution_count": 25,
   "id": "723082ad-d849-436e-90e7-30b718278333",
   "metadata": {},
   "outputs": [
    {
     "data": {
      "text/plain": [
       "0.916078570884413"
      ]
     },
     "execution_count": 25,
     "metadata": {},
     "output_type": "execute_result"
    }
   ],
   "source": [
    "#optimize the hyperparameters with a data pipeline and gridsearch\n",
    "\n",
    "pipe = Pipeline([\n",
    "    ('ss', StandardScaler()),\n",
    "    ('lass', LassoCV())\n",
    "])\n",
    "\n",
    "pipe.fit(X2_train, y2_train)\n",
    "pipe.score(X2_val, y2_val)"
   ]
  },
  {
   "cell_type": "code",
   "execution_count": 26,
   "id": "ead14120-3cf2-4ad1-ae6d-af4591aff285",
   "metadata": {},
   "outputs": [],
   "source": [
    "pipe_params = {\n",
    "    'ss__with_mean': [True, False],\n",
    "    'lass__alphas': [np.logspace(-3, 0, 10)]\n",
    "}\n",
    "\n",
    "pipe_gridsearch = GridSearchCV(pipe, # What is the model we want to fit?\n",
    "                                 pipe_params, # What is the dictionary of hyperparameters?\n",
    "                                 cv=5, # What number of folds in CV will we use?\n",
    "                                 verbose=1)"
   ]
  },
  {
   "cell_type": "code",
   "execution_count": 27,
   "id": "f71ca0aa-a9d9-4da4-8363-dac90c715be1",
   "metadata": {},
   "outputs": [
    {
     "name": "stdout",
     "output_type": "stream",
     "text": [
      "Fitting 5 folds for each of 2 candidates, totalling 10 fits\n"
     ]
    }
   ],
   "source": [
    "# Fit the GridSearchCV object to the data.\n",
    "pipe_gridsearch.fit(X2_train, y2_train);"
   ]
  },
  {
   "cell_type": "code",
   "execution_count": 28,
   "id": "0b6856b8-d7d5-40e6-b771-7a58ebfbf388",
   "metadata": {},
   "outputs": [
    {
     "data": {
      "text/plain": [
       "0.9160748216552557"
      ]
     },
     "execution_count": 28,
     "metadata": {},
     "output_type": "execute_result"
    }
   ],
   "source": [
    "#I tried to run a gridsearch pipeline on a lasso regression model and standard scaler\n",
    "#Because the score doesn't appear any better than the less complex model I am sticking with the simpler approach here\n",
    "pipe_gridsearch.score(X2_val, y2_val)"
   ]
  },
  {
   "cell_type": "code",
   "execution_count": 39,
   "id": "75d705ea-352d-4fe3-abba-29d56d85cc24",
   "metadata": {},
   "outputs": [],
   "source": [
    "# I am going to push these model coefficients to excel for visualization\n",
    "model2_coefficients= pd.DataFrame(model2.coef_, X2.columns).sort_values(by= 0, ascending= False)\n",
    "model2_coefficients.to_csv('datasets/model2_coefs.csv')"
   ]
  },
  {
   "cell_type": "code",
   "execution_count": null,
   "id": "46e33a8e-355f-4973-b80d-b9f6082217a6",
   "metadata": {},
   "outputs": [],
   "source": []
  }
 ],
 "metadata": {
  "kernelspec": {
   "display_name": "Python 3 (ipykernel)",
   "language": "python",
   "name": "python3"
  },
  "language_info": {
   "codemirror_mode": {
    "name": "ipython",
    "version": 3
   },
   "file_extension": ".py",
   "mimetype": "text/x-python",
   "name": "python",
   "nbconvert_exporter": "python",
   "pygments_lexer": "ipython3",
   "version": "3.9.12"
  }
 },
 "nbformat": 4,
 "nbformat_minor": 5
}
