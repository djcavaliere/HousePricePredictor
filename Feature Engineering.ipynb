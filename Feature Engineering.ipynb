{
 "cells": [
  {
   "cell_type": "markdown",
   "id": "c712c904-26b9-425f-8d12-611c6dce4f12",
   "metadata": {},
   "source": [
    "### Import Libraries and Load Data"
   ]
  },
  {
   "cell_type": "code",
   "execution_count": 1,
   "id": "c48752a9-8931-4b66-9ffd-180756fa6198",
   "metadata": {},
   "outputs": [],
   "source": [
    "import pandas as pd\n",
    "import numpy as np\n",
    "import matplotlib.pyplot as plt\n",
    "\n",
    "from sklearn.linear_model import LinearRegression\n",
    "from sklearn.model_selection import train_test_split, cross_val_score\n",
    "from sklearn import metrics\n",
    "from sklearn.preprocessing import StandardScaler, PolynomialFeatures"
   ]
  },
  {
   "cell_type": "code",
   "execution_count": 2,
   "id": "dde23b8a-9bd3-4508-9468-c1f44788e77c",
   "metadata": {},
   "outputs": [],
   "source": [
    "#read train and test data from the EDA & Cleaning noteboook\n",
    "%store -r traindf\n",
    "%store -r testdf"
   ]
  },
  {
   "cell_type": "code",
   "execution_count": 3,
   "id": "65415419-6b28-4c66-b128-7ab9046e3966",
   "metadata": {},
   "outputs": [
    {
     "data": {
      "text/plain": [
       "(1966, 71)"
      ]
     },
     "execution_count": 3,
     "metadata": {},
     "output_type": "execute_result"
    }
   ],
   "source": [
    "traindf.shape"
   ]
  },
  {
   "cell_type": "code",
   "execution_count": 4,
   "id": "fa1fff3d-21b9-4530-b9ad-385239fbb1d7",
   "metadata": {},
   "outputs": [
    {
     "data": {
      "text/plain": [
       "(878, 70)"
      ]
     },
     "execution_count": 4,
     "metadata": {},
     "output_type": "execute_result"
    }
   ],
   "source": [
    "testdf.shape"
   ]
  },
  {
   "cell_type": "markdown",
   "id": "240d9c9a-3ccd-470b-953c-197aee4f0936",
   "metadata": {},
   "source": [
    "### Feature Engineering\n",
    "Based on the correlations between feature and target and some basic domain knowledge on housing prices I decided to create some new features to capture the number baths and total square feet as well as polynomial variables of these highly correlated features to see how they impact the score of the model. Lastly I will dummify all the categorical features so that they can be fed into the model."
   ]
  },
  {
   "cell_type": "code",
   "execution_count": 5,
   "id": "cf6aefc1-5d4d-4a09-9480-b278026092c9",
   "metadata": {},
   "outputs": [],
   "source": [
    "#Here I am creating two new interaction features within the training and testing data to get the total baths and total square feet\n",
    "traindf['Baths'] = traindf['Full Bath'] + (traindf['Half Bath'] *0.5) + traindf['Bsmt Full Bath'] + (traindf['Bsmt Half Bath'] *0.5)\n",
    "traindf['HouseSF'] = traindf['Total Bsmt SF'] + traindf['Gr Liv Area'] + traindf['Garage Area']\n",
    "\n",
    "testdf['Baths'] = testdf['Full Bath'] + (testdf['Half Bath'] *0.5) + testdf['Bsmt Full Bath'] + (testdf['Bsmt Half Bath'] *0.5)\n",
    "testdf['HouseSF'] = testdf['Total Bsmt SF'] + testdf['Gr Liv Area'] + testdf['Garage Area']"
   ]
  },
  {
   "cell_type": "markdown",
   "id": "85095196-e815-4abc-9a74-45417366e88f",
   "metadata": {},
   "source": [
    "### Dummify Variables\n",
    "Encode categorical variables as 1s and 0s so that they can be interpreted by the linear model"
   ]
  },
  {
   "cell_type": "code",
   "execution_count": 6,
   "id": "38e80a12-734c-4fd1-9b57-2deaf2d931d2",
   "metadata": {},
   "outputs": [],
   "source": [
    "#dummify all the categorical features\n",
    "dummies= traindf[['MS Zoning', \n",
    "                   'Street',\n",
    "                   'Lot Shape',\n",
    "                   'Land Contour',      \n",
    "                   'Utilities', \n",
    "                   'Lot Config',\n",
    "                   'Land Slope',\n",
    "                   'Neighborhood',      \n",
    "                   'Condition 1',      \n",
    "                   'Condition 2',       \n",
    "                   'Bldg Type',        \n",
    "                   'House Style',\n",
    "                   'Roof Style', \n",
    "                   'Roof Matl',         \n",
    "                   'Exterior 1st',      \n",
    "                   'Exterior 2nd',      \n",
    "                   'Mas Vnr Type',      \n",
    "                   'Exter Qual',        \n",
    "                   'Exter Cond',        \n",
    "                   'Foundation',        \n",
    "                   'Bsmt Qual',         \n",
    "                   'Bsmt Cond',         \n",
    "                   'Bsmt Exposure',     \n",
    "                   'BsmtFin Type 1',\n",
    "                   'BsmtFin Type 2',\n",
    "                    'Heating',           \n",
    "                    'Heating QC',        \n",
    "                    'Central Air',       \n",
    "                    'Electrical',        \n",
    "                    'Kitchen Qual',      \n",
    "                    'Functional',               \n",
    "                    'Paved Drive',\n",
    "                    'Sale Type']]  "
   ]
  },
  {
   "cell_type": "code",
   "execution_count": 7,
   "id": "34b2c08b-1ffa-4221-a796-acdf42ea4791",
   "metadata": {},
   "outputs": [],
   "source": [
    "#Create the dummy columns for each categorical feature\n",
    "dummy_col=pd.concat([pd.get_dummies(dummies[col], drop_first=True) for col in dummies], axis=1, keys=dummies.columns)"
   ]
  },
  {
   "cell_type": "code",
   "execution_count": 8,
   "id": "606ab82f-9668-4688-8d55-a9749fc1a651",
   "metadata": {},
   "outputs": [],
   "source": [
    "#drop the original categorical columns as we replaced these with the dummy columns\n",
    "traindf.drop(columns= ['MS Zoning', \n",
    "                   'Street',\n",
    "                   'Lot Shape',\n",
    "                   'Land Contour',      \n",
    "                   'Utilities', \n",
    "                   'Lot Config',\n",
    "                   'Land Slope',\n",
    "                   'Neighborhood',      \n",
    "                   'Condition 1',      \n",
    "                   'Condition 2',       \n",
    "                   'Bldg Type',        \n",
    "                   'House Style',\n",
    "                   'Roof Style', \n",
    "                   'Roof Matl',         \n",
    "                   'Exterior 1st',      \n",
    "                   'Exterior 2nd',      \n",
    "                   'Mas Vnr Type',      \n",
    "                   'Exter Qual',        \n",
    "                   'Exter Cond',        \n",
    "                   'Foundation',        \n",
    "                   'Bsmt Qual',         \n",
    "                   'Bsmt Cond',         \n",
    "                   'Bsmt Exposure',     \n",
    "                   'BsmtFin Type 1',\n",
    "                   'BsmtFin Type 2',\n",
    "                    'Heating',           \n",
    "                    'Heating QC',        \n",
    "                    'Central Air',       \n",
    "                    'Electrical',        \n",
    "                    'Kitchen Qual',      \n",
    "                    'Functional',               \n",
    "                    'Paved Drive',\n",
    "                    'Sale Type'], inplace= True)"
   ]
  },
  {
   "cell_type": "code",
   "execution_count": 9,
   "id": "ea7a96ba-c1e2-43c0-87e6-a98d4a34fb12",
   "metadata": {},
   "outputs": [
    {
     "name": "stderr",
     "output_type": "stream",
     "text": [
      "C:\\Users\\dylan\\AppData\\Local\\Temp\\ipykernel_1920\\3232435998.py:2: FutureWarning: merging between different levels is deprecated and will be removed in a future version. (1 levels on the left, 2 on the right)\n",
      "  traindf= traindf.join(dummy_col)\n"
     ]
    }
   ],
   "source": [
    "#join the dummy features with the training dataframe\n",
    "traindf= traindf.join(dummy_col)"
   ]
  },
  {
   "cell_type": "code",
   "execution_count": 10,
   "id": "afd1ce94-db0c-4101-8c4b-2d2a2d2382f2",
   "metadata": {},
   "outputs": [],
   "source": [
    "dummies_test= testdf[['MS Zoning', \n",
    "                   'Street',\n",
    "                   'Lot Shape',\n",
    "                   'Land Contour',      \n",
    "                   'Utilities', \n",
    "                   'Lot Config',\n",
    "                   'Land Slope',\n",
    "                   'Neighborhood',      \n",
    "                   'Condition 1',      \n",
    "                   'Condition 2',       \n",
    "                   'Bldg Type',        \n",
    "                   'House Style',\n",
    "                   'Roof Style', \n",
    "                   'Roof Matl',         \n",
    "                   'Exterior 1st',      \n",
    "                   'Exterior 2nd',      \n",
    "                   'Mas Vnr Type',      \n",
    "                   'Exter Qual',        \n",
    "                   'Exter Cond',        \n",
    "                   'Foundation',        \n",
    "                   'Bsmt Qual',         \n",
    "                   'Bsmt Cond',         \n",
    "                   'Bsmt Exposure',     \n",
    "                   'BsmtFin Type 1',\n",
    "                   'BsmtFin Type 2',\n",
    "                    'Heating',           \n",
    "                    'Heating QC',        \n",
    "                    'Central Air',       \n",
    "                    'Electrical',        \n",
    "                    'Kitchen Qual',      \n",
    "                    'Functional',               \n",
    "                    'Paved Drive',\n",
    "                    'Sale Type']]  \n",
    "\n",
    "dummy_col2=pd.concat([pd.get_dummies(dummies_test[col], drop_first=True) for col in dummies_test], axis=1, keys=dummies_test.columns)"
   ]
  },
  {
   "cell_type": "code",
   "execution_count": 11,
   "id": "14c6c644-7899-4ad4-b149-2547f8f12b66",
   "metadata": {},
   "outputs": [],
   "source": [
    "testdf.drop(columns= ['MS Zoning', \n",
    "                   'Street',\n",
    "                   'Lot Shape',\n",
    "                   'Land Contour',      \n",
    "                   'Utilities', \n",
    "                   'Lot Config',\n",
    "                   'Land Slope',\n",
    "                   'Neighborhood',      \n",
    "                   'Condition 1',      \n",
    "                   'Condition 2',       \n",
    "                   'Bldg Type',        \n",
    "                   'House Style',\n",
    "                   'Roof Style', \n",
    "                   'Roof Matl',         \n",
    "                   'Exterior 1st',      \n",
    "                   'Exterior 2nd',      \n",
    "                   'Mas Vnr Type',      \n",
    "                   'Exter Qual',        \n",
    "                   'Exter Cond',        \n",
    "                   'Foundation',        \n",
    "                   'Bsmt Qual',         \n",
    "                   'Bsmt Cond',         \n",
    "                   'Bsmt Exposure',     \n",
    "                   'BsmtFin Type 1',\n",
    "                   'BsmtFin Type 2',\n",
    "                    'Heating',           \n",
    "                    'Heating QC',        \n",
    "                    'Central Air',       \n",
    "                    'Electrical',        \n",
    "                    'Kitchen Qual',      \n",
    "                    'Functional',               \n",
    "                    'Paved Drive',\n",
    "                    'Sale Type'], inplace= True)"
   ]
  },
  {
   "cell_type": "code",
   "execution_count": 12,
   "id": "52190abe-a9a8-49c9-b668-8edae8a28492",
   "metadata": {},
   "outputs": [
    {
     "name": "stderr",
     "output_type": "stream",
     "text": [
      "C:\\Users\\dylan\\AppData\\Local\\Temp\\ipykernel_1920\\2734717953.py:1: FutureWarning: merging between different levels is deprecated and will be removed in a future version. (1 levels on the left, 2 on the right)\n",
      "  testdf= testdf.join(dummy_col2)\n"
     ]
    }
   ],
   "source": [
    "testdf= testdf.join(dummy_col2)"
   ]
  },
  {
   "cell_type": "markdown",
   "id": "84e2f38a-bd4c-4590-b84e-b323ffa2aa60",
   "metadata": {},
   "source": [
    "### Polynomial Features \n",
    "Create polynomial features to emphasis features that have high correlation to the target variable"
   ]
  },
  {
   "cell_type": "code",
   "execution_count": 13,
   "id": "6e315323-a81a-41cb-8614-ad05bd5dad04",
   "metadata": {},
   "outputs": [],
   "source": [
    "#define poly feats\n",
    "features= ['HouseSF', 'Baths', 'Bedroom AbvGr', 'Overall Qual']\n",
    "poly_feats= traindf[['HouseSF', 'Baths', 'Bedroom AbvGr', 'Overall Qual']]"
   ]
  },
  {
   "cell_type": "code",
   "execution_count": 14,
   "id": "f38cfdef-3d9d-46ae-986e-64b7651d6869",
   "metadata": {},
   "outputs": [],
   "source": [
    "# Instantiate PolynomialFeatures\n",
    "poly= PolynomialFeatures(include_bias = False)"
   ]
  },
  {
   "cell_type": "code",
   "execution_count": 15,
   "id": "c91fbb04-b60a-4341-aa55-fe11f1d67502",
   "metadata": {},
   "outputs": [],
   "source": [
    "# Create X_poly\n",
    "X_poly= poly.fit_transform(poly_feats)\n",
    "\n",
    "# View X_poly in a DataFrame\n",
    "temp_df= pd.DataFrame(X_poly, columns = poly.get_feature_names_out(features))\n",
    "\n",
    "#Drop the original columns as these are already in the traindf\n",
    "temp_df.drop(columns=['HouseSF', 'Baths', 'Bedroom AbvGr',  'Overall Qual'], inplace= True )\n",
    "\n",
    "#Add these polynomial features to the train dataset\n",
    "traindf= traindf.join(temp_df)"
   ]
  },
  {
   "cell_type": "code",
   "execution_count": 16,
   "id": "dcbeb1ba-eeba-4150-9b6e-aa82b590acfc",
   "metadata": {},
   "outputs": [
    {
     "data": {
      "text/plain": [
       "Index(['HouseSF^2', 'HouseSF Baths', 'HouseSF Bedroom AbvGr',\n",
       "       'HouseSF Overall Qual', 'Baths^2', 'Baths Bedroom AbvGr',\n",
       "       'Baths Overall Qual', 'Bedroom AbvGr^2', 'Bedroom AbvGr Overall Qual',\n",
       "       'Overall Qual^2'],\n",
       "      dtype='object')"
      ]
     },
     "execution_count": 16,
     "metadata": {},
     "output_type": "execute_result"
    }
   ],
   "source": [
    "temp_df.columns"
   ]
  },
  {
   "cell_type": "code",
   "execution_count": 17,
   "id": "ce526787-0beb-45ce-99a8-9e5520471bb9",
   "metadata": {},
   "outputs": [
    {
     "data": {
      "text/html": [
       "<div>\n",
       "<style scoped>\n",
       "    .dataframe tbody tr th:only-of-type {\n",
       "        vertical-align: middle;\n",
       "    }\n",
       "\n",
       "    .dataframe tbody tr th {\n",
       "        vertical-align: top;\n",
       "    }\n",
       "\n",
       "    .dataframe thead th {\n",
       "        text-align: right;\n",
       "    }\n",
       "</style>\n",
       "<table border=\"1\" class=\"dataframe\">\n",
       "  <thead>\n",
       "    <tr style=\"text-align: right;\">\n",
       "      <th></th>\n",
       "      <th>feature</th>\n",
       "      <th>nulls</th>\n",
       "    </tr>\n",
       "  </thead>\n",
       "  <tbody>\n",
       "    <tr>\n",
       "      <th>215</th>\n",
       "      <td>HouseSF^2</td>\n",
       "      <td>83</td>\n",
       "    </tr>\n",
       "    <tr>\n",
       "      <th>216</th>\n",
       "      <td>HouseSF Baths</td>\n",
       "      <td>83</td>\n",
       "    </tr>\n",
       "    <tr>\n",
       "      <th>217</th>\n",
       "      <td>HouseSF Bedroom AbvGr</td>\n",
       "      <td>83</td>\n",
       "    </tr>\n",
       "    <tr>\n",
       "      <th>218</th>\n",
       "      <td>HouseSF Overall Qual</td>\n",
       "      <td>83</td>\n",
       "    </tr>\n",
       "    <tr>\n",
       "      <th>219</th>\n",
       "      <td>Baths^2</td>\n",
       "      <td>83</td>\n",
       "    </tr>\n",
       "    <tr>\n",
       "      <th>220</th>\n",
       "      <td>Baths Bedroom AbvGr</td>\n",
       "      <td>83</td>\n",
       "    </tr>\n",
       "    <tr>\n",
       "      <th>221</th>\n",
       "      <td>Baths Overall Qual</td>\n",
       "      <td>83</td>\n",
       "    </tr>\n",
       "    <tr>\n",
       "      <th>222</th>\n",
       "      <td>Bedroom AbvGr^2</td>\n",
       "      <td>83</td>\n",
       "    </tr>\n",
       "    <tr>\n",
       "      <th>223</th>\n",
       "      <td>Bedroom AbvGr Overall Qual</td>\n",
       "      <td>83</td>\n",
       "    </tr>\n",
       "    <tr>\n",
       "      <th>224</th>\n",
       "      <td>Overall Qual^2</td>\n",
       "      <td>83</td>\n",
       "    </tr>\n",
       "  </tbody>\n",
       "</table>\n",
       "</div>"
      ],
      "text/plain": [
       "                        feature  nulls\n",
       "215                   HouseSF^2     83\n",
       "216               HouseSF Baths     83\n",
       "217       HouseSF Bedroom AbvGr     83\n",
       "218        HouseSF Overall Qual     83\n",
       "219                     Baths^2     83\n",
       "220         Baths Bedroom AbvGr     83\n",
       "221          Baths Overall Qual     83\n",
       "222             Bedroom AbvGr^2     83\n",
       "223  Bedroom AbvGr Overall Qual     83\n",
       "224              Overall Qual^2     83"
      ]
     },
     "execution_count": 17,
     "metadata": {},
     "output_type": "execute_result"
    }
   ],
   "source": [
    "missing_values_test = traindf.isna().sum().reset_index()\n",
    "missing_values_test.columns = ['feature','nulls']\n",
    "missing_values_test = missing_values_test[missing_values_test['nulls'] != 0].sort_values(by= 'nulls',ascending=False)\n",
    "missing_values_test"
   ]
  },
  {
   "cell_type": "code",
   "execution_count": 18,
   "id": "5eecde1d-d062-4ee1-a817-a47e90e0d9ff",
   "metadata": {},
   "outputs": [],
   "source": [
    "traindf.dropna(inplace=True)"
   ]
  },
  {
   "cell_type": "code",
   "execution_count": 19,
   "id": "7ea2369a-472d-4bca-a357-9735e99030f3",
   "metadata": {},
   "outputs": [],
   "source": [
    "# Create X_poly\n",
    "test_poly= poly.fit_transform(poly_feats)\n",
    "\n",
    "# View X_poly in a DataFrame\n",
    "temp_df_test= pd.DataFrame(test_poly, columns = poly.get_feature_names_out(features))\n",
    "\n",
    "#Drop the original columns as these are already in the traindf\n",
    "temp_df_test.drop(columns=['HouseSF', 'Baths', 'Bedroom AbvGr', 'Overall Qual'], inplace= True )\n",
    "\n",
    "#Add these polynomial features to the train dataset\n",
    "testdf= testdf.join(temp_df_test)"
   ]
  },
  {
   "cell_type": "code",
   "execution_count": 20,
   "id": "23a208ec-d09e-4f06-bcc6-1489a781f961",
   "metadata": {},
   "outputs": [
    {
     "name": "stdout",
     "output_type": "stream",
     "text": [
      "Stored 'traindf' (DataFrame)\n",
      "Stored 'testdf' (DataFrame)\n"
     ]
    }
   ],
   "source": [
    "#Save and store the data for model building and evaluation\n",
    "%store traindf\n",
    "%store testdf"
   ]
  },
  {
   "cell_type": "code",
   "execution_count": null,
   "id": "8003b7eb-0d28-4408-a23d-672aa8a515a3",
   "metadata": {},
   "outputs": [],
   "source": []
  }
 ],
 "metadata": {
  "kernelspec": {
   "display_name": "Python 3 (ipykernel)",
   "language": "python",
   "name": "python3"
  },
  "language_info": {
   "codemirror_mode": {
    "name": "ipython",
    "version": 3
   },
   "file_extension": ".py",
   "mimetype": "text/x-python",
   "name": "python",
   "nbconvert_exporter": "python",
   "pygments_lexer": "ipython3",
   "version": "3.9.12"
  }
 },
 "nbformat": 4,
 "nbformat_minor": 5
}
